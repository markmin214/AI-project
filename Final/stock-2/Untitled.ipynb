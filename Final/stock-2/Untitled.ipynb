{
 "cells": [
  {
   "cell_type": "code",
   "execution_count": 1,
   "metadata": {},
   "outputs": [],
   "source": [
    "import pandas as pd\n",
    "import numpy as np\n",
    "import get_prices as hist\n",
    "import tensorflow as tf\n",
    "from preprocessing import DataProcessing\n",
    "import pandas_datareader.data as pdr\n",
    "import yfinance as fix\n",
    "import matplotlib.pyplot as plt\n",
    "import WXBizSendMsg"
   ]
  },
  {
   "cell_type": "code",
   "execution_count": 2,
   "metadata": {},
   "outputs": [
    {
     "name": "stdout",
     "output_type": "stream",
     "text": [
      "[*********************100%***********************]  1 of 1 downloaded\n"
     ]
    }
   ],
   "source": [
    "fix.pdr_override()\n",
    "\n",
    "start = \"2000-01-01\"\n",
    "end = \"2019-08-22\"\n",
    "\n",
    "stock=\"000001.SS\"\n",
    "\n",
    "hist.get_stock_data(stock, start_date=start, end_date=end)\n",
    "process = DataProcessing(\"stock_prices.csv\", 0.9)\n",
    "\n",
    "process.gen_test(10)\n",
    "process.gen_train(10)\n",
    "\n",
    "\n",
    "X_train = process.X_train / np.array([process.value_max, process.volume_max])  # 归一化， 包括Adj Close 和 Volume\n",
    "Y_train = process.Y_train / process.value_max\n",
    "\n",
    "X_test = process.X_test / np.array([process.value_max, process.volume_max])\n",
    "Y_test = process.Y_test / process.value_max\n"
   ]
  },
  {
   "cell_type": "code",
   "execution_count": null,
   "metadata": {},
   "outputs": [
    {
     "name": "stderr",
     "output_type": "stream",
     "text": [
      "WARNING: Logging before flag parsing goes to stderr.\n",
      "W0823 16:18:53.999618 140094662838080 deprecation.py:506] From /opt/rh/rh-python36/root/usr/lib/python3.6/site-packages/tensorflow/python/ops/init_ops.py:1251: calling VarianceScaling.__init__ (from tensorflow.python.ops.init_ops) with dtype is deprecated and will be removed in a future version.\n",
      "Instructions for updating:\n",
      "Call initializer instance with the dtype argument instead of passing it to the constructor\n",
      "W0823 16:18:55.114606 140094662838080 deprecation.py:323] From /opt/rh/rh-python36/root/usr/lib/python3.6/site-packages/tensorflow/python/ops/math_grad.py:1250: add_dispatch_support.<locals>.wrapper (from tensorflow.python.ops.array_ops) is deprecated and will be removed in a future version.\n",
      "Instructions for updating:\n",
      "Use tf.where in 2.0, which has the same broadcast rule as np.where\n"
     ]
    },
    {
     "name": "stdout",
     "output_type": "stream",
     "text": [
      "Epoch 1/50\n",
      "4379/4379 [==============================] - 118s 27ms/sample - loss: 8.8973e-04\n",
      "Epoch 2/50\n",
      "4379/4379 [==============================] - 110s 25ms/sample - loss: 3.9518e-04\n",
      "Epoch 3/50\n",
      "4379/4379 [==============================] - 109s 25ms/sample - loss: 2.9903e-04\n",
      "Epoch 4/50\n",
      "4379/4379 [==============================] - 101s 23ms/sample - loss: 2.4052e-04\n",
      "Epoch 5/50\n",
      "4379/4379 [==============================] - 104s 24ms/sample - loss: 2.2156e-04\n",
      "Epoch 6/50\n",
      "4379/4379 [==============================] - 97s 22ms/sample - loss: 2.1606e-04\n",
      "Epoch 7/50\n",
      "4379/4379 [==============================] - 99s 23ms/sample - loss: 1.9914e-04\n",
      "Epoch 8/50\n",
      "3046/4379 [===================>..........] - ETA: 29s - loss: 2.1738e-04"
     ]
    }
   ],
   "source": [
    "model = tf.keras.Sequential()\n",
    "model.add(tf.keras.layers.LSTM(20, input_shape=(10, 2), return_sequences=True))\n",
    "model.add(tf.keras.layers.LSTM(20))\n",
    "model.add(tf.keras.layers.Dense(1))\n",
    "\n",
    "model.compile(optimizer=\"adam\",loss=\"mean_squared_error\")\n",
    "\n",
    "h=model.fit(X_train, Y_train, epochs=50,shuffle=True,batch_size=1)"
   ]
  },
  {
   "cell_type": "code",
   "execution_count": null,
   "metadata": {},
   "outputs": [],
   "source": [
    "print(\"history.loss:\",h.history)\n",
    "plt.title('loss')\n",
    "losses=h.history['loss']\n",
    "plt.plot(losses, label='loss')\n",
    "plt.legend()\n",
    "plt.show()\n",
    "\n",
    "print(model.evaluate(X_test, Y_test))\n",
    "\n",
    "X_predict = model.predict(X_test)\n",
    "plt.title(start+\"—\"+end)\n",
    "plt.plot(Y_test * process.value_max, label=\"Actual\", c=\"blue\")\n",
    "plt.plot(X_predict * process.value_max, label=\"Predict\", c=\"red\")\n",
    "plt.legend()\n",
    "plt.savefig('stock.png')\n",
    "plt.show()"
   ]
  },
  {
   "cell_type": "code",
   "execution_count": null,
   "metadata": {},
   "outputs": [],
   "source": [
    "data = pdr.get_data_yahoo(stock, \"2019-08-09\", \"2019-08-22\")\n",
    "stock = data[[\"Adj Close\", \"Volume\"]]\n",
    "X1_predict = np.array(stock) / np.array([process.value_max, process.volume_max])\n",
    "X1_predict = X1_predict.reshape(1, -1, 2)\n",
    "\n",
    "print(\"predict:\")\n",
    "predict=model.predict(X1_predict) * process.value_max\n",
    "print(predict)"
   ]
  },
  {
   "cell_type": "code",
   "execution_count": null,
   "metadata": {},
   "outputs": [],
   "source": [
    "api = WXBizSendMsg.WXBizSendMsg(WXBizSendMsg.sCorpID,WXBizSendMsg.corpsecret)\n",
    "#发送图片\n",
    "media_id = api.upload_media(\"file\",\"./stock.png\")\n",
    "message = WXBizSendMsg.ImageMessage(WXBizSendMsg.agentID,touser=\"@all\",media_id=media_id)\n",
    "res = api.send_message(message)\n",
    "print(res)#\n",
    "\n",
    "predict=\"{:.2f}\".format(predict[0][0])\n",
    "message = WXBizSendMsg.TextMessage(WXBizSendMsg.agentID,touser='@all',content=\"明日上证指数:\"+predict)\n",
    "res = api.send_message(message)\n",
    "print(res)"
   ]
  }
 ],
 "metadata": {
  "kernelspec": {
   "display_name": "Python 3",
   "language": "python",
   "name": "python3"
  },
  "language_info": {
   "codemirror_mode": {
    "name": "ipython",
    "version": 3
   },
   "file_extension": ".py",
   "mimetype": "text/x-python",
   "name": "python",
   "nbconvert_exporter": "python",
   "pygments_lexer": "ipython3",
   "version": "3.6.3"
  }
 },
 "nbformat": 4,
 "nbformat_minor": 2
}
