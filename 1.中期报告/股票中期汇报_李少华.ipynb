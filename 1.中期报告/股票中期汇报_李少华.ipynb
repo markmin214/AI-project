{
 "cells": [
  {
   "cell_type": "markdown",
   "metadata": {},
   "source": [
    "# 股票组1 --  项目中期汇报\n",
    "## 1. Data\n",
    "## 2. Baseline\n",
    "## 3. Evaluation"
   ]
  },
  {
   "cell_type": "markdown",
   "metadata": {},
   "source": [
    "## 1. Data"
   ]
  },
  {
   "cell_type": "code",
   "execution_count": 9,
   "metadata": {},
   "outputs": [],
   "source": [
    "import pandas as pd\n",
    "import datetime\n",
    "import numpy as np\n",
    "\n",
    "trade_date_pd = pd.read_csv(\"./stock_data/trade_date.csv\")\n",
    "trade_date_pd = trade_date_pd[trade_date_pd['cal_date']>=20000101]\n",
    "\n",
    "for date_i in range(len(trade_date_pd)):\n",
    "    try:\n",
    "        daily_data_pd = pd.read_csv(\"./stock_data/\"+str(trade_date_pd.iloc[date_i].cal_date)+\".csv\")\n",
    "        daily_data_pd['target']=daily_data_pd.apply(lambda x: 1 if x['PtcChange']>0 else 0, axis=1)\n",
    "        daily_data_pd['volume_rate']=daily_data_pd['Volume']/daily_data_pd.Volume.mean()\n",
    "        daily_data_pd['open']=daily_data_pd.apply(lambda x: x['AdjOpen']/x['AdjPreClose']*100-100, axis=1)\n",
    "        daily_data_pd['high']=daily_data_pd.apply(lambda x: x['AdjHigh']/x['AdjPreClose']*100-100, axis=1)\n",
    "        daily_data_pd['low']=daily_data_pd.apply(lambda x: x['AdjLow']/x['AdjPreClose']*100-100, axis=1)\n",
    "        daily_data_pd['close']=daily_data_pd.apply(lambda x: x['AdjClose']/x['AdjPreClose']*100-100, axis=1)\n",
    "        daily_data_pd = daily_data_pd[['StockID','TradingDay','volume_rate','open','high','low','close','target']].rename(columns={\"StockID\":\"code\",\"TradingDay\":\"trade_date\"})\n",
    "        daily_data_pd.to_csv(\"./stock_data/ready/\"+str(trade_date_pd.iloc[date_i].cal_date)+\"_ready.csv\", index=False)\n",
    "    except Exception as e:\n",
    "        continue"
   ]
  },
  {
   "cell_type": "code",
   "execution_count": 10,
   "metadata": {
    "scrolled": false
   },
   "outputs": [
    {
     "data": {
      "text/html": [
       "<div>\n",
       "<style scoped>\n",
       "    .dataframe tbody tr th:only-of-type {\n",
       "        vertical-align: middle;\n",
       "    }\n",
       "\n",
       "    .dataframe tbody tr th {\n",
       "        vertical-align: top;\n",
       "    }\n",
       "\n",
       "    .dataframe thead th {\n",
       "        text-align: right;\n",
       "    }\n",
       "</style>\n",
       "<table border=\"1\" class=\"dataframe\">\n",
       "  <thead>\n",
       "    <tr style=\"text-align: right;\">\n",
       "      <th></th>\n",
       "      <th>code</th>\n",
       "      <th>trade_date</th>\n",
       "      <th>volume_rate</th>\n",
       "      <th>open</th>\n",
       "      <th>high</th>\n",
       "      <th>low</th>\n",
       "      <th>close</th>\n",
       "      <th>target</th>\n",
       "    </tr>\n",
       "  </thead>\n",
       "  <tbody>\n",
       "    <tr>\n",
       "      <th>0</th>\n",
       "      <td>SH600000</td>\n",
       "      <td>20190813</td>\n",
       "      <td>2.290593</td>\n",
       "      <td>-0.268373</td>\n",
       "      <td>-0.268373</td>\n",
       "      <td>-1.224883</td>\n",
       "      <td>-0.880815</td>\n",
       "      <td>0</td>\n",
       "    </tr>\n",
       "    <tr>\n",
       "      <th>1</th>\n",
       "      <td>SH600004</td>\n",
       "      <td>20190813</td>\n",
       "      <td>4.053848</td>\n",
       "      <td>0.211820</td>\n",
       "      <td>6.015675</td>\n",
       "      <td>-0.868460</td>\n",
       "      <td>4.490574</td>\n",
       "      <td>1</td>\n",
       "    </tr>\n",
       "    <tr>\n",
       "      <th>2</th>\n",
       "      <td>SH600006</td>\n",
       "      <td>20190813</td>\n",
       "      <td>0.865542</td>\n",
       "      <td>-0.676091</td>\n",
       "      <td>-0.245851</td>\n",
       "      <td>-1.782422</td>\n",
       "      <td>-0.921942</td>\n",
       "      <td>0</td>\n",
       "    </tr>\n",
       "    <tr>\n",
       "      <th>3</th>\n",
       "      <td>SH600007</td>\n",
       "      <td>20190813</td>\n",
       "      <td>0.125837</td>\n",
       "      <td>0.000000</td>\n",
       "      <td>1.766540</td>\n",
       "      <td>-1.454797</td>\n",
       "      <td>-1.073779</td>\n",
       "      <td>0</td>\n",
       "    </tr>\n",
       "    <tr>\n",
       "      <th>4</th>\n",
       "      <td>SH600008</td>\n",
       "      <td>20190813</td>\n",
       "      <td>0.853980</td>\n",
       "      <td>-0.918897</td>\n",
       "      <td>-0.599281</td>\n",
       "      <td>-1.518178</td>\n",
       "      <td>-0.599281</td>\n",
       "      <td>0</td>\n",
       "    </tr>\n",
       "  </tbody>\n",
       "</table>\n",
       "</div>"
      ],
      "text/plain": [
       "       code  trade_date  volume_rate      open      high       low     close  \\\n",
       "0  SH600000    20190813     2.290593 -0.268373 -0.268373 -1.224883 -0.880815   \n",
       "1  SH600004    20190813     4.053848  0.211820  6.015675 -0.868460  4.490574   \n",
       "2  SH600006    20190813     0.865542 -0.676091 -0.245851 -1.782422 -0.921942   \n",
       "3  SH600007    20190813     0.125837  0.000000  1.766540 -1.454797 -1.073779   \n",
       "4  SH600008    20190813     0.853980 -0.918897 -0.599281 -1.518178 -0.599281   \n",
       "\n",
       "   target  \n",
       "0       0  \n",
       "1       1  \n",
       "2       0  \n",
       "3       0  \n",
       "4       0  "
      ]
     },
     "execution_count": 10,
     "metadata": {},
     "output_type": "execute_result"
    }
   ],
   "source": [
    "ready_pd = pd.read_csv(\"./stock_data/ready/20190813_ready.csv\")\n",
    "ready_pd.head()"
   ]
  },
  {
   "cell_type": "markdown",
   "metadata": {},
   "source": [
    "# Model & Baseline\n"
   ]
  },
  {
   "cell_type": "code",
   "execution_count": 3,
   "metadata": {
    "scrolled": true
   },
   "outputs": [
    {
     "ename": "ModuleNotFoundError",
     "evalue": "No module named 'keras'",
     "output_type": "error",
     "traceback": [
      "\u001b[0;31m---------------------------------------------------------------------------\u001b[0m",
      "\u001b[0;31mModuleNotFoundError\u001b[0m                       Traceback (most recent call last)",
      "\u001b[0;32m<ipython-input-3-91451a5dd441>\u001b[0m in \u001b[0;36m<module>\u001b[0;34m\u001b[0m\n\u001b[0;32m----> 1\u001b[0;31m \u001b[0;32mfrom\u001b[0m \u001b[0mkeras\u001b[0m \u001b[0;32mimport\u001b[0m \u001b[0mSequential\u001b[0m\u001b[0;34m\u001b[0m\u001b[0m\n\u001b[0m\u001b[1;32m      2\u001b[0m \u001b[0mmodel\u001b[0m \u001b[0;34m=\u001b[0m \u001b[0mSequential\u001b[0m\u001b[0;34m(\u001b[0m\u001b[0;34m)\u001b[0m\u001b[0;34m\u001b[0m\u001b[0m\n\u001b[1;32m      3\u001b[0m \u001b[0mmodel\u001b[0m\u001b[0;34m.\u001b[0m\u001b[0madd\u001b[0m\u001b[0;34m(\u001b[0m\u001b[0mLSTM\u001b[0m\u001b[0;34m(\u001b[0m\u001b[0;36m128\u001b[0m\u001b[0;34m,\u001b[0m \u001b[0minput_dim\u001b[0m\u001b[0;34m=\u001b[0m\u001b[0;36m5\u001b[0m\u001b[0;34m,\u001b[0m \u001b[0minput_length\u001b[0m\u001b[0;34m=\u001b[0m\u001b[0;36m60\u001b[0m\u001b[0;34m,\u001b[0m \u001b[0mreturn_sequences\u001b[0m\u001b[0;34m=\u001b[0m\u001b[0;32mTrue\u001b[0m\u001b[0;34m)\u001b[0m\u001b[0;34m)\u001b[0m\u001b[0;34m\u001b[0m\u001b[0m\n\u001b[1;32m      4\u001b[0m \u001b[0mmodel\u001b[0m\u001b[0;34m.\u001b[0m\u001b[0madd\u001b[0m\u001b[0;34m(\u001b[0m\u001b[0mLSTM\u001b[0m\u001b[0;34m(\u001b[0m\u001b[0;36m256\u001b[0m\u001b[0;34m,\u001b[0m \u001b[0mreturn_sequences\u001b[0m\u001b[0;34m=\u001b[0m\u001b[0;32mFalse\u001b[0m\u001b[0;34m)\u001b[0m\u001b[0;34m)\u001b[0m\u001b[0;34m\u001b[0m\u001b[0m\n",
      "\u001b[0;31mModuleNotFoundError\u001b[0m: No module named 'keras'"
     ]
    }
   ],
   "source": [
    "from keras import Sequential\n",
    "model = Sequential() \n",
    "model.add(LSTM(128, input_dim=5, input_length=60, return_sequences=True)) \n",
    "model.add(LSTM(256, return_sequences=False))"
   ]
  },
  {
   "cell_type": "markdown",
   "metadata": {},
   "source": [
    "# Evaluation"
   ]
  },
  {
   "cell_type": "code",
   "execution_count": null,
   "metadata": {},
   "outputs": [],
   "source": [
    "model.compile(loss='categorical_crossentropy',optimizer='sgd',metrics=['accuracy'])\n",
    "model.fit(x_train, y_train, epochs=10, batch_size=100)\n",
    "loss_and_metrics = model.evaluate(x_test, y_test, batch_size=128)\n",
    "classes = model.predict(x_test, batch_size=128)"
   ]
  }
 ],
 "metadata": {
  "kernelspec": {
   "display_name": "Python 3",
   "language": "python",
   "name": "python3"
  },
  "language_info": {
   "codemirror_mode": {
    "name": "ipython",
    "version": 3
   },
   "file_extension": ".py",
   "mimetype": "text/x-python",
   "name": "python",
   "nbconvert_exporter": "python",
   "pygments_lexer": "ipython3",
   "version": "3.6.5"
  }
 },
 "nbformat": 4,
 "nbformat_minor": 2
}
